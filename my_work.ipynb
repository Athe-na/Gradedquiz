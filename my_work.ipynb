{
 "cells": [
  {
   "cell_type": "code",
   "execution_count": 22,
   "metadata": {},
   "outputs": [],
   "source": [
    "#importing the needed libraries#\n",
    "import pandas as pd\n",
    "import numpy as np"
   ]
  },
  {
   "cell_type": "markdown",
   "metadata": {},
   "source": [
    "Question 2"
   ]
  },
  {
   "cell_type": "code",
   "execution_count": 23,
   "metadata": {},
   "outputs": [
    {
     "data": {
      "text/plain": [
       "array([[1., 0., 0.],\n",
       "       [0., 1., 0.],\n",
       "       [0., 0., 1.]])"
      ]
     },
     "execution_count": 23,
     "metadata": {},
     "output_type": "execute_result"
    }
   ],
   "source": [
    "np.identity(3) #this gives a typical identity matrix(a matrix with zeros \n",
    "               #across rows and columns except the diagonal.\n",
    "#eye(3)was wrongly written. The correct syntax for creating identity matrix\n",
    "#with eye function is np.eye(3)\n",
    "#the other options np.array[(1,0,0),(0,1,0),(0,0,1)] \n",
    "#and np.array([1,0,0],[0,1,0],[0,0,1])will not give the desired output because\n",
    "#it is not the right syntax for creating an array.\n"
   ]
  },
  {
   "cell_type": "markdown",
   "metadata": {},
   "source": [
    "Question 3"
   ]
  },
  {
   "cell_type": "code",
   "execution_count": 24,
   "metadata": {},
   "outputs": [
    {
     "data": {
      "text/html": [
       "<div>\n",
       "<style scoped>\n",
       "    .dataframe tbody tr th:only-of-type {\n",
       "        vertical-align: middle;\n",
       "    }\n",
       "\n",
       "    .dataframe tbody tr th {\n",
       "        vertical-align: top;\n",
       "    }\n",
       "\n",
       "    .dataframe thead th {\n",
       "        text-align: right;\n",
       "    }\n",
       "</style>\n",
       "<table border=\"1\" class=\"dataframe\">\n",
       "  <thead>\n",
       "    <tr style=\"text-align: right;\">\n",
       "      <th></th>\n",
       "      <th>record_id</th>\n",
       "      <th>utility_id_ferc1</th>\n",
       "      <th>report_year</th>\n",
       "      <th>plant_name_ferc1</th>\n",
       "      <th>fuel_type_code_pudl</th>\n",
       "      <th>fuel_unit</th>\n",
       "      <th>fuel_qty_burned</th>\n",
       "      <th>fuel_mmbtu_per_unit</th>\n",
       "      <th>fuel_cost_per_unit_burned</th>\n",
       "      <th>fuel_cost_per_unit_delivered</th>\n",
       "      <th>fuel_cost_per_mmbtu</th>\n",
       "    </tr>\n",
       "  </thead>\n",
       "  <tbody>\n",
       "    <tr>\n",
       "      <th>0</th>\n",
       "      <td>f1_fuel_1994_12_1_0_7</td>\n",
       "      <td>1</td>\n",
       "      <td>1994</td>\n",
       "      <td>rockport</td>\n",
       "      <td>coal</td>\n",
       "      <td>ton</td>\n",
       "      <td>5377489.0</td>\n",
       "      <td>16.590</td>\n",
       "      <td>18.59</td>\n",
       "      <td>18.53</td>\n",
       "      <td>1.121</td>\n",
       "    </tr>\n",
       "    <tr>\n",
       "      <th>1</th>\n",
       "      <td>f1_fuel_1994_12_1_0_10</td>\n",
       "      <td>1</td>\n",
       "      <td>1994</td>\n",
       "      <td>rockport total plant</td>\n",
       "      <td>coal</td>\n",
       "      <td>ton</td>\n",
       "      <td>10486945.0</td>\n",
       "      <td>16.592</td>\n",
       "      <td>18.58</td>\n",
       "      <td>18.53</td>\n",
       "      <td>1.120</td>\n",
       "    </tr>\n",
       "    <tr>\n",
       "      <th>2</th>\n",
       "      <td>f1_fuel_1994_12_2_0_1</td>\n",
       "      <td>2</td>\n",
       "      <td>1994</td>\n",
       "      <td>gorgas</td>\n",
       "      <td>coal</td>\n",
       "      <td>ton</td>\n",
       "      <td>2978683.0</td>\n",
       "      <td>24.130</td>\n",
       "      <td>39.72</td>\n",
       "      <td>38.12</td>\n",
       "      <td>1.650</td>\n",
       "    </tr>\n",
       "    <tr>\n",
       "      <th>3</th>\n",
       "      <td>f1_fuel_1994_12_2_0_7</td>\n",
       "      <td>2</td>\n",
       "      <td>1994</td>\n",
       "      <td>barry</td>\n",
       "      <td>coal</td>\n",
       "      <td>ton</td>\n",
       "      <td>3739484.0</td>\n",
       "      <td>23.950</td>\n",
       "      <td>47.21</td>\n",
       "      <td>45.99</td>\n",
       "      <td>1.970</td>\n",
       "    </tr>\n",
       "    <tr>\n",
       "      <th>4</th>\n",
       "      <td>f1_fuel_1994_12_2_0_10</td>\n",
       "      <td>2</td>\n",
       "      <td>1994</td>\n",
       "      <td>chickasaw</td>\n",
       "      <td>gas</td>\n",
       "      <td>mcf</td>\n",
       "      <td>40533.0</td>\n",
       "      <td>1.000</td>\n",
       "      <td>2.77</td>\n",
       "      <td>2.77</td>\n",
       "      <td>2.570</td>\n",
       "    </tr>\n",
       "    <tr>\n",
       "      <th>...</th>\n",
       "      <td>...</td>\n",
       "      <td>...</td>\n",
       "      <td>...</td>\n",
       "      <td>...</td>\n",
       "      <td>...</td>\n",
       "      <td>...</td>\n",
       "      <td>...</td>\n",
       "      <td>...</td>\n",
       "      <td>...</td>\n",
       "      <td>...</td>\n",
       "      <td>...</td>\n",
       "    </tr>\n",
       "    <tr>\n",
       "      <th>29518</th>\n",
       "      <td>f1_fuel_2018_12_12_0_13</td>\n",
       "      <td>12</td>\n",
       "      <td>2018</td>\n",
       "      <td>neil simpson ct #1</td>\n",
       "      <td>gas</td>\n",
       "      <td>mcf</td>\n",
       "      <td>18799.0</td>\n",
       "      <td>1.059</td>\n",
       "      <td>4.78</td>\n",
       "      <td>4.78</td>\n",
       "      <td>9.030</td>\n",
       "    </tr>\n",
       "    <tr>\n",
       "      <th>29519</th>\n",
       "      <td>f1_fuel_2018_12_12_1_1</td>\n",
       "      <td>12</td>\n",
       "      <td>2018</td>\n",
       "      <td>cheyenne prairie 58%</td>\n",
       "      <td>gas</td>\n",
       "      <td>mcf</td>\n",
       "      <td>806730.0</td>\n",
       "      <td>1.050</td>\n",
       "      <td>3.65</td>\n",
       "      <td>3.65</td>\n",
       "      <td>6.950</td>\n",
       "    </tr>\n",
       "    <tr>\n",
       "      <th>29520</th>\n",
       "      <td>f1_fuel_2018_12_12_1_10</td>\n",
       "      <td>12</td>\n",
       "      <td>2018</td>\n",
       "      <td>lange ct facility</td>\n",
       "      <td>gas</td>\n",
       "      <td>mcf</td>\n",
       "      <td>104554.0</td>\n",
       "      <td>1.060</td>\n",
       "      <td>4.77</td>\n",
       "      <td>4.77</td>\n",
       "      <td>8.990</td>\n",
       "    </tr>\n",
       "    <tr>\n",
       "      <th>29521</th>\n",
       "      <td>f1_fuel_2018_12_12_1_13</td>\n",
       "      <td>12</td>\n",
       "      <td>2018</td>\n",
       "      <td>wygen 3 bhp 52%</td>\n",
       "      <td>coal</td>\n",
       "      <td>ton</td>\n",
       "      <td>315945.0</td>\n",
       "      <td>16.108</td>\n",
       "      <td>3.06</td>\n",
       "      <td>14.76</td>\n",
       "      <td>1.110</td>\n",
       "    </tr>\n",
       "    <tr>\n",
       "      <th>29522</th>\n",
       "      <td>f1_fuel_2018_12_12_1_14</td>\n",
       "      <td>12</td>\n",
       "      <td>2018</td>\n",
       "      <td>wygen 3 bhp 52%</td>\n",
       "      <td>gas</td>\n",
       "      <td>mcf</td>\n",
       "      <td>17853.0</td>\n",
       "      <td>1.059</td>\n",
       "      <td>0.00</td>\n",
       "      <td>0.00</td>\n",
       "      <td>11.680</td>\n",
       "    </tr>\n",
       "  </tbody>\n",
       "</table>\n",
       "<p>29523 rows × 11 columns</p>\n",
       "</div>"
      ],
      "text/plain": [
       "                     record_id  utility_id_ferc1  report_year  \\\n",
       "0        f1_fuel_1994_12_1_0_7                 1         1994   \n",
       "1       f1_fuel_1994_12_1_0_10                 1         1994   \n",
       "2        f1_fuel_1994_12_2_0_1                 2         1994   \n",
       "3        f1_fuel_1994_12_2_0_7                 2         1994   \n",
       "4       f1_fuel_1994_12_2_0_10                 2         1994   \n",
       "...                        ...               ...          ...   \n",
       "29518  f1_fuel_2018_12_12_0_13                12         2018   \n",
       "29519   f1_fuel_2018_12_12_1_1                12         2018   \n",
       "29520  f1_fuel_2018_12_12_1_10                12         2018   \n",
       "29521  f1_fuel_2018_12_12_1_13                12         2018   \n",
       "29522  f1_fuel_2018_12_12_1_14                12         2018   \n",
       "\n",
       "           plant_name_ferc1 fuel_type_code_pudl fuel_unit  fuel_qty_burned  \\\n",
       "0                  rockport                coal       ton        5377489.0   \n",
       "1      rockport total plant                coal       ton       10486945.0   \n",
       "2                    gorgas                coal       ton        2978683.0   \n",
       "3                     barry                coal       ton        3739484.0   \n",
       "4                 chickasaw                 gas       mcf          40533.0   \n",
       "...                     ...                 ...       ...              ...   \n",
       "29518    neil simpson ct #1                 gas       mcf          18799.0   \n",
       "29519  cheyenne prairie 58%                 gas       mcf         806730.0   \n",
       "29520     lange ct facility                 gas       mcf         104554.0   \n",
       "29521       wygen 3 bhp 52%                coal       ton         315945.0   \n",
       "29522       wygen 3 bhp 52%                 gas       mcf          17853.0   \n",
       "\n",
       "       fuel_mmbtu_per_unit  fuel_cost_per_unit_burned  \\\n",
       "0                   16.590                      18.59   \n",
       "1                   16.592                      18.58   \n",
       "2                   24.130                      39.72   \n",
       "3                   23.950                      47.21   \n",
       "4                    1.000                       2.77   \n",
       "...                    ...                        ...   \n",
       "29518                1.059                       4.78   \n",
       "29519                1.050                       3.65   \n",
       "29520                1.060                       4.77   \n",
       "29521               16.108                       3.06   \n",
       "29522                1.059                       0.00   \n",
       "\n",
       "       fuel_cost_per_unit_delivered  fuel_cost_per_mmbtu  \n",
       "0                             18.53                1.121  \n",
       "1                             18.53                1.120  \n",
       "2                             38.12                1.650  \n",
       "3                             45.99                1.970  \n",
       "4                              2.77                2.570  \n",
       "...                             ...                  ...  \n",
       "29518                          4.78                9.030  \n",
       "29519                          3.65                6.950  \n",
       "29520                          4.77                8.990  \n",
       "29521                         14.76                1.110  \n",
       "29522                          0.00               11.680  \n",
       "\n",
       "[29523 rows x 11 columns]"
      ]
     },
     "execution_count": 24,
     "metadata": {},
     "output_type": "execute_result"
    }
   ],
   "source": [
    "#reading data\n",
    "data = pd.read_csv('https://raw.githubusercontent.com/WalePhenomenon/climate_change/master/fuel_ferc1.csv')\n",
    "data"
   ]
  },
  {
   "cell_type": "code",
   "execution_count": 25,
   "metadata": {},
   "outputs": [
    {
     "data": {
      "text/plain": [
       "fuel_type_code_pudl\n",
       "gas          13.659397\n",
       "other        18.253856\n",
       "waste        19.518122\n",
       "coal         67.421830\n",
       "oil         168.877086\n",
       "nuclear    4955.157002\n",
       "Name: fuel_cost_per_unit_burned, dtype: float64"
      ]
     },
     "execution_count": 25,
     "metadata": {},
     "output_type": "execute_result"
    }
   ],
   "source": [
    "# lowest average fuel cost per unit burned according to fuel type\n",
    "a = data['fuel_cost_per_unit_burned'].groupby(data['fuel_type_code_pudl']).mean().sort_values(ascending=True)\n",
    "a"
   ]
  },
  {
   "cell_type": "markdown",
   "metadata": {},
   "source": [
    "Question 4"
   ]
  },
  {
   "cell_type": "code",
   "execution_count": 26,
   "metadata": {},
   "outputs": [
    {
     "data": {
      "text/plain": [
       "count    29523.00\n",
       "mean         8.49\n",
       "std         10.60\n",
       "min          0.00\n",
       "25%          1.02\n",
       "50%          5.76\n",
       "75%         17.01\n",
       "max        341.26\n",
       "Name: fuel_mmbtu_per_unit, dtype: float64"
      ]
     },
     "execution_count": 26,
     "metadata": {},
     "output_type": "execute_result"
    }
   ],
   "source": [
    "b = data['fuel_mmbtu_per_unit'].describe()\n",
    "b\n",
    "round(b,2)"
   ]
  },
  {
   "cell_type": "markdown",
   "metadata": {},
   "source": [
    "Question 5"
   ]
  },
  {
   "cell_type": "code",
   "execution_count": 27,
   "metadata": {},
   "outputs": [
    {
     "data": {
      "text/plain": [
       "15.85"
      ]
     },
     "execution_count": 27,
     "metadata": {},
     "output_type": "execute_result"
    }
   ],
   "source": [
    "c = data['fuel_qty_burned'].skew()\n",
    "c\n",
    "round(c,2)"
   ]
  },
  {
   "cell_type": "code",
   "execution_count": 28,
   "metadata": {},
   "outputs": [
    {
     "data": {
      "text/plain": [
       "651.37"
      ]
     },
     "execution_count": 28,
     "metadata": {},
     "output_type": "execute_result"
    }
   ],
   "source": [
    "d = data['fuel_qty_burned'].kurt()\n",
    "d\n",
    "round(d,2)"
   ]
  },
  {
   "cell_type": "markdown",
   "metadata": {},
   "source": [
    "Question 6"
   ]
  },
  {
   "cell_type": "code",
   "execution_count": 29,
   "metadata": {},
   "outputs": [
    {
     "data": {
      "text/plain": [
       "record_id                         0\n",
       "utility_id_ferc1                  0\n",
       "report_year                       0\n",
       "plant_name_ferc1                  0\n",
       "fuel_type_code_pudl               0\n",
       "fuel_unit                       180\n",
       "fuel_qty_burned                   0\n",
       "fuel_mmbtu_per_unit               0\n",
       "fuel_cost_per_unit_burned         0\n",
       "fuel_cost_per_unit_delivered      0\n",
       "fuel_cost_per_mmbtu               0\n",
       "dtype: int64"
      ]
     },
     "execution_count": 29,
     "metadata": {},
     "output_type": "execute_result"
    }
   ],
   "source": [
    "data.isnull().sum()\n",
    "#the variable with missing value is fuel_unit, total number of 180"
   ]
  },
  {
   "cell_type": "markdown",
   "metadata": {},
   "source": [
    "Question 7"
   ]
  },
  {
   "cell_type": "code",
   "execution_count": 30,
   "metadata": {},
   "outputs": [
    {
     "name": "stdout",
     "output_type": "stream",
     "text": [
      "<class 'pandas.core.frame.DataFrame'>\n",
      "RangeIndex: 29523 entries, 0 to 29522\n",
      "Data columns (total 11 columns):\n",
      " #   Column                        Non-Null Count  Dtype  \n",
      "---  ------                        --------------  -----  \n",
      " 0   record_id                     29523 non-null  object \n",
      " 1   utility_id_ferc1              29523 non-null  int64  \n",
      " 2   report_year                   29523 non-null  int64  \n",
      " 3   plant_name_ferc1              29523 non-null  object \n",
      " 4   fuel_type_code_pudl           29523 non-null  object \n",
      " 5   fuel_unit                     29343 non-null  object \n",
      " 6   fuel_qty_burned               29523 non-null  float64\n",
      " 7   fuel_mmbtu_per_unit           29523 non-null  float64\n",
      " 8   fuel_cost_per_unit_burned     29523 non-null  float64\n",
      " 9   fuel_cost_per_unit_delivered  29523 non-null  float64\n",
      " 10  fuel_cost_per_mmbtu           29523 non-null  float64\n",
      "dtypes: float64(5), int64(2), object(4)\n",
      "memory usage: 2.5+ MB\n"
     ]
    }
   ],
   "source": [
    "#the feature with missing value i.e fuel_unit is a categorical variable. \n",
    "#Missing values for categorical(object) variables are best filled with the most frequent \n",
    "#value(mode)\n",
    "#types of different variables in a data set can be obtained with this function\n",
    "data.info()"
   ]
  },
  {
   "cell_type": "markdown",
   "metadata": {},
   "source": [
    "Question 8"
   ]
  },
  {
   "cell_type": "code",
   "execution_count": 31,
   "metadata": {},
   "outputs": [
    {
     "data": {
      "text/html": [
       "<div>\n",
       "<style scoped>\n",
       "    .dataframe tbody tr th:only-of-type {\n",
       "        vertical-align: middle;\n",
       "    }\n",
       "\n",
       "    .dataframe tbody tr th {\n",
       "        vertical-align: top;\n",
       "    }\n",
       "\n",
       "    .dataframe thead th {\n",
       "        text-align: right;\n",
       "    }\n",
       "</style>\n",
       "<table border=\"1\" class=\"dataframe\">\n",
       "  <thead>\n",
       "    <tr style=\"text-align: right;\">\n",
       "      <th></th>\n",
       "      <th>utility_id_ferc1</th>\n",
       "      <th>report_year</th>\n",
       "      <th>fuel_qty_burned</th>\n",
       "      <th>fuel_mmbtu_per_unit</th>\n",
       "      <th>fuel_cost_per_unit_burned</th>\n",
       "      <th>fuel_cost_per_unit_delivered</th>\n",
       "      <th>fuel_cost_per_mmbtu</th>\n",
       "    </tr>\n",
       "  </thead>\n",
       "  <tbody>\n",
       "    <tr>\n",
       "      <th>utility_id_ferc1</th>\n",
       "      <td>1.000000</td>\n",
       "      <td>0.093323</td>\n",
       "      <td>-0.057447</td>\n",
       "      <td>-0.066946</td>\n",
       "      <td>-0.037863</td>\n",
       "      <td>-0.016414</td>\n",
       "      <td>0.006122</td>\n",
       "    </tr>\n",
       "    <tr>\n",
       "      <th>fuel_qty_burned</th>\n",
       "      <td>-0.057447</td>\n",
       "      <td>0.012952</td>\n",
       "      <td>1.000000</td>\n",
       "      <td>-0.080946</td>\n",
       "      <td>-0.018535</td>\n",
       "      <td>-0.003551</td>\n",
       "      <td>-0.001896</td>\n",
       "    </tr>\n",
       "    <tr>\n",
       "      <th>fuel_mmbtu_per_unit</th>\n",
       "      <td>-0.066946</td>\n",
       "      <td>-0.110853</td>\n",
       "      <td>-0.080946</td>\n",
       "      <td>1.000000</td>\n",
       "      <td>-0.010034</td>\n",
       "      <td>-0.009039</td>\n",
       "      <td>-0.005884</td>\n",
       "    </tr>\n",
       "    <tr>\n",
       "      <th>fuel_cost_per_mmbtu</th>\n",
       "      <td>0.006122</td>\n",
       "      <td>0.010261</td>\n",
       "      <td>-0.001896</td>\n",
       "      <td>-0.005884</td>\n",
       "      <td>-0.000437</td>\n",
       "      <td>-0.000109</td>\n",
       "      <td>1.000000</td>\n",
       "    </tr>\n",
       "    <tr>\n",
       "      <th>fuel_cost_per_unit_delivered</th>\n",
       "      <td>-0.016414</td>\n",
       "      <td>-0.014043</td>\n",
       "      <td>-0.003551</td>\n",
       "      <td>-0.009039</td>\n",
       "      <td>0.011007</td>\n",
       "      <td>1.000000</td>\n",
       "      <td>-0.000109</td>\n",
       "    </tr>\n",
       "    <tr>\n",
       "      <th>report_year</th>\n",
       "      <td>0.093323</td>\n",
       "      <td>1.000000</td>\n",
       "      <td>0.012952</td>\n",
       "      <td>-0.110853</td>\n",
       "      <td>0.013599</td>\n",
       "      <td>-0.014043</td>\n",
       "      <td>0.010261</td>\n",
       "    </tr>\n",
       "    <tr>\n",
       "      <th>fuel_cost_per_unit_burned</th>\n",
       "      <td>-0.037863</td>\n",
       "      <td>0.013599</td>\n",
       "      <td>-0.018535</td>\n",
       "      <td>-0.010034</td>\n",
       "      <td>1.000000</td>\n",
       "      <td>0.011007</td>\n",
       "      <td>-0.000437</td>\n",
       "    </tr>\n",
       "  </tbody>\n",
       "</table>\n",
       "</div>"
      ],
      "text/plain": [
       "                              utility_id_ferc1  report_year  fuel_qty_burned  \\\n",
       "utility_id_ferc1                      1.000000     0.093323        -0.057447   \n",
       "fuel_qty_burned                      -0.057447     0.012952         1.000000   \n",
       "fuel_mmbtu_per_unit                  -0.066946    -0.110853        -0.080946   \n",
       "fuel_cost_per_mmbtu                   0.006122     0.010261        -0.001896   \n",
       "fuel_cost_per_unit_delivered         -0.016414    -0.014043        -0.003551   \n",
       "report_year                           0.093323     1.000000         0.012952   \n",
       "fuel_cost_per_unit_burned            -0.037863     0.013599        -0.018535   \n",
       "\n",
       "                              fuel_mmbtu_per_unit  fuel_cost_per_unit_burned  \\\n",
       "utility_id_ferc1                        -0.066946                  -0.037863   \n",
       "fuel_qty_burned                         -0.080946                  -0.018535   \n",
       "fuel_mmbtu_per_unit                      1.000000                  -0.010034   \n",
       "fuel_cost_per_mmbtu                     -0.005884                  -0.000437   \n",
       "fuel_cost_per_unit_delivered            -0.009039                   0.011007   \n",
       "report_year                             -0.110853                   0.013599   \n",
       "fuel_cost_per_unit_burned               -0.010034                   1.000000   \n",
       "\n",
       "                              fuel_cost_per_unit_delivered  \\\n",
       "utility_id_ferc1                                 -0.016414   \n",
       "fuel_qty_burned                                  -0.003551   \n",
       "fuel_mmbtu_per_unit                              -0.009039   \n",
       "fuel_cost_per_mmbtu                              -0.000109   \n",
       "fuel_cost_per_unit_delivered                      1.000000   \n",
       "report_year                                      -0.014043   \n",
       "fuel_cost_per_unit_burned                         0.011007   \n",
       "\n",
       "                              fuel_cost_per_mmbtu  \n",
       "utility_id_ferc1                         0.006122  \n",
       "fuel_qty_burned                         -0.001896  \n",
       "fuel_mmbtu_per_unit                     -0.005884  \n",
       "fuel_cost_per_mmbtu                      1.000000  \n",
       "fuel_cost_per_unit_delivered            -0.000109  \n",
       "report_year                              0.010261  \n",
       "fuel_cost_per_unit_burned               -0.000437  "
      ]
     },
     "execution_count": 31,
     "metadata": {},
     "output_type": "execute_result"
    }
   ],
   "source": [
    "e = data.corr().sort_values(by='fuel_cost_per_unit_burned',ascending=True)\n",
    "e"
   ]
  },
  {
   "cell_type": "markdown",
   "metadata": {},
   "source": [
    "Question 9"
   ]
  },
  {
   "cell_type": "code",
   "execution_count": 32,
   "metadata": {},
   "outputs": [
    {
     "data": {
      "text/plain": [
       "fuel_type_code_pudl  report_year\n",
       "coal                 1994                 NaN\n",
       "                     1998          -20.567655\n",
       "Name: fuel_cost_per_unit_burned, dtype: float64"
      ]
     },
     "execution_count": 32,
     "metadata": {},
     "output_type": "execute_result"
    }
   ],
   "source": [
    "f = data['fuel_cost_per_unit_burned'].groupby([data['fuel_type_code_pudl'], data['report_year']]).sum()\n",
    "g = f.loc['coal', [1994, 1998]].pct_change()\n",
    "g * 100\n"
   ]
  },
  {
   "cell_type": "markdown",
   "metadata": {},
   "source": [
    "Question 10"
   ]
  },
  {
   "cell_type": "code",
   "execution_count": 33,
   "metadata": {},
   "outputs": [
    {
     "data": {
      "text/plain": [
       "report_year\n",
       "1997    11140.197239\n",
       "1996     9196.705948\n",
       "2000      985.362877\n",
       "2009      652.694163\n",
       "2018      499.269966\n",
       "2015      326.535511\n",
       "1998      287.154420\n",
       "2014      192.737183\n",
       "2013      172.307591\n",
       "2004      139.524275\n",
       "2016      103.901761\n",
       "2010       91.862105\n",
       "1994       63.636060\n",
       "2012       60.994502\n",
       "2001       60.050396\n",
       "2011       59.774667\n",
       "2008       58.588197\n",
       "2003       55.663493\n",
       "2002       47.594361\n",
       "2017       46.196861\n",
       "2007       43.325023\n",
       "2005       41.438184\n",
       "2006       38.657484\n",
       "1995       32.735269\n",
       "1999       25.551627\n",
       "Name: fuel_cost_per_unit_delivered, dtype: float64"
      ]
     },
     "execution_count": 33,
     "metadata": {},
     "output_type": "execute_result"
    }
   ],
   "source": [
    "data['fuel_cost_per_unit_delivered'].groupby(data['report_year']).mean().sort_values(ascending=False)"
   ]
  },
  {
   "cell_type": "code",
   "execution_count": null,
   "metadata": {},
   "outputs": [],
   "source": []
  }
 ],
 "metadata": {
  "kernelspec": {
   "display_name": "Python 3",
   "language": "python",
   "name": "python3"
  },
  "language_info": {
   "codemirror_mode": {
    "name": "ipython",
    "version": 3
   },
   "file_extension": ".py",
   "mimetype": "text/x-python",
   "name": "python",
   "nbconvert_exporter": "python",
   "pygments_lexer": "ipython3",
   "version": "3.7.6"
  }
 },
 "nbformat": 4,
 "nbformat_minor": 4
}
